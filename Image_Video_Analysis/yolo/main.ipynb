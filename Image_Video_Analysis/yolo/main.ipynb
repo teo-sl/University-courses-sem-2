{
 "cells": [
  {
   "cell_type": "code",
   "execution_count": null,
   "metadata": {},
   "outputs": [],
   "source": [
    "import cv2\n",
    "from ultralytics import YOLO\n",
    "import numpy as np\n",
    "import torch"
   ]
  },
  {
   "cell_type": "code",
   "execution_count": null,
   "metadata": {},
   "outputs": [],
   "source": [
    "print(torch.backends.mps.is_available())\n",
    "model = YOLO('yolov8m.pt')"
   ]
  },
  {
   "cell_type": "code",
   "execution_count": null,
   "metadata": {},
   "outputs": [],
   "source": [
    "cap = cv2.VideoCapture(0)\n",
    "classes_dict = model.names"
   ]
  },
  {
   "cell_type": "code",
   "execution_count": null,
   "metadata": {},
   "outputs": [],
   "source": [
    "while True:\n",
    "    ret, frame = cap.read()\n",
    "    if not ret:\n",
    "        break\n",
    "    results = model(frame,device='mps')\n",
    "    result = results[0]\n",
    "    # add the boxes to the frame with the label\n",
    "    bboxes = np.array(result.boxes.xyxy.cpu(),dtype=\"int\")\n",
    "    classes = np.array(result.boxes.cls.cpu(),dtype=\"int\")\n",
    "\n",
    "    for cls, bbox in zip(classes,bboxes):\n",
    "        cls = classes_dict[cls]\n",
    "        x1, y1, x2, y2 = bbox\n",
    "    \n",
    "        cv2.rectangle(frame, (x1, y1), (x2, y2), (0, 0, 225), 2)\n",
    "        cv2.putText(frame,str(cls),(x1,y1-5),cv2.FONT_HERSHEY_PLAIN,1,(0,0,225),2)\n",
    "\n",
    "\n",
    "    cv2.imshow('frame', frame)\n",
    "    key = cv2.waitKey(1)\n",
    "    if key == 27:\n",
    "        break\n"
   ]
  },
  {
   "cell_type": "code",
   "execution_count": null,
   "metadata": {},
   "outputs": [],
   "source": [
    "cap.release()\n",
    "cv2.destroyAllWindows()"
   ]
  },
  {
   "cell_type": "code",
   "execution_count": null,
   "metadata": {},
   "outputs": [],
   "source": []
  }
 ],
 "metadata": {
  "kernelspec": {
   "display_name": "yolo_env",
   "language": "python",
   "name": "python3"
  },
  "language_info": {
   "codemirror_mode": {
    "name": "ipython",
    "version": 3
   },
   "file_extension": ".py",
   "mimetype": "text/x-python",
   "name": "python",
   "nbconvert_exporter": "python",
   "pygments_lexer": "ipython3",
   "version": "3.9.16"
  },
  "orig_nbformat": 4
 },
 "nbformat": 4,
 "nbformat_minor": 2
}
