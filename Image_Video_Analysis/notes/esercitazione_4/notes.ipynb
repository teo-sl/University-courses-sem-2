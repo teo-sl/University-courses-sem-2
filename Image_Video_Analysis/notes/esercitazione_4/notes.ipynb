{
 "cells": [
  {
   "cell_type": "code",
   "execution_count": 1,
   "metadata": {},
   "outputs": [],
   "source": [
    "import torch \n",
    "import torch.nn as nn\n",
    "import numpy as np\n",
    "import matplotlib.pyplot as plt\n"
   ]
  },
  {
   "cell_type": "code",
   "execution_count": null,
   "metadata": {},
   "outputs": [],
   "source": [
    "x = torch.rand(5,3)\n",
    "print(x)\n",
    "print(x.shape)\n",
    "print(type(x))\n",
    "# neural networks accept only tensor of type long or float\n",
    "print(x.dtype)\n",
    "x = torch.rand(5,3)\n",
    "print(x)\n",
    "print(x.dtype)\n",
    "print(x.size())\n",
    "# tutti i tensori devono risiedere nello stesso device\n",
    "# si richiede quindi che per la conversione a numpy il \n",
    "# il tensore stia sulla cpu\n",
    "y=x.numpy()\n",
    "y = x.cpu().numpy()\n",
    "print(y)\n",
    "\n",
    "# l'operazione di view non è inplace, i.e. x rimane identico,\n",
    "# ma x e y condividono i valori\n",
    "w = x.view(-1,15)\n",
    "print(w.shape)\n",
    "print(x.shape)"
   ]
  },
  {
   "attachments": {},
   "cell_type": "markdown",
   "metadata": {},
   "source": [
    "Dal seguente esempio possiamo notare che, la view effettua una semplice riorganizzazione del tensore, i dati sottostanti rimangono condivisi"
   ]
  },
  {
   "cell_type": "code",
   "execution_count": null,
   "metadata": {},
   "outputs": [],
   "source": [
    "x = torch.rand(2,2)\n",
    "y = x.view(-1,4)\n",
    "\n",
    "x[0,1]=5\n",
    "print(x)\n",
    "print(y)"
   ]
  },
  {
   "attachments": {},
   "cell_type": "markdown",
   "metadata": {},
   "source": [
    "Anche per la reshape, tuttavia, non è sicuro"
   ]
  },
  {
   "cell_type": "code",
   "execution_count": null,
   "metadata": {},
   "outputs": [],
   "source": [
    "x = torch.rand(2,2)\n",
    "y = x.reshape(-1,4)\n",
    "\n",
    "x[0,1] = 5\n",
    "print(x)\n",
    "print(y)"
   ]
  },
  {
   "cell_type": "code",
   "execution_count": null,
   "metadata": {},
   "outputs": [],
   "source": [
    "device = torch.device(\"cuda\" if torch.cuda.is_available() else \"cpu\")\n",
    "device"
   ]
  },
  {
   "attachments": {},
   "cell_type": "markdown",
   "metadata": {},
   "source": [
    "L'operazione di to(device) è ovviamente dispendiosa, bisogna minimizzare lo spostamento"
   ]
  },
  {
   "cell_type": "code",
   "execution_count": null,
   "metadata": {},
   "outputs": [],
   "source": [
    "# x = torch.rand(5,3)\n",
    "# x.to('cuda')\n",
    "# x.to('cpu')\n",
    "# y = y.cuda()"
   ]
  },
  {
   "cell_type": "code",
   "execution_count": null,
   "metadata": {},
   "outputs": [],
   "source": [
    "# il requires_grad indica che si può effettuare l'allenamento\n",
    "# sui pesi\n",
    "x = torch.ones(2,2,requires_grad=True)\n",
    "y = x+2\n",
    "print(x)\n",
    "print(y)"
   ]
  },
  {
   "cell_type": "code",
   "execution_count": null,
   "metadata": {},
   "outputs": [],
   "source": [
    "z = torch.pow(y,2)\n",
    "t = 3*z\n",
    "out = z.mean()\n",
    "# grad_fn indica l'istruzione da usare per il calcolo delle derivate parziali\n",
    "print(z.grad_fn)\n",
    "print(t.grad_fn)\n",
    "print(out.grad_fn)\n"
   ]
  },
  {
   "cell_type": "code",
   "execution_count": null,
   "metadata": {},
   "outputs": [],
   "source": [
    "out.backward()"
   ]
  },
  {
   "cell_type": "code",
   "execution_count": null,
   "metadata": {},
   "outputs": [],
   "source": [
    "x.grad"
   ]
  },
  {
   "cell_type": "code",
   "execution_count": 2,
   "metadata": {},
   "outputs": [
    {
     "data": {
      "text/plain": [
       "[<matplotlib.lines.Line2D at 0x16806bfd0>]"
      ]
     },
     "execution_count": 2,
     "metadata": {},
     "output_type": "execute_result"
    },
    {
     "data": {
      "image/png": "[encoded data removed]",
      "text/plain": [
       "<Figure size 640x480 with 1 Axes>"
      ]
     },
     "metadata": {},
     "output_type": "display_data"
    }
   ],
   "source": [
    "# create random dataset for linear regression\n",
    "x_train = torch.randn(100,1)*10\n",
    "y_train = x_train + 3*torch.randn(100,1)\n",
    "\n",
    "plt.plot(x_train.numpy(),y_train.numpy(),'o')"
   ]
  },
  {
   "cell_type": "code",
   "execution_count": 3,
   "metadata": {},
   "outputs": [],
   "source": [
    "model = nn.Linear(1,1)\n",
    "criterion = nn.MSELoss()\n",
    "\n",
    "lr = 1e-4\n",
    "optimizer = torch.optim.SGD(model.parameters(),lr=lr)\n",
    "NUM_EPOCHS = 1000\n"
   ]
  },
  {
   "cell_type": "code",
   "execution_count": 4,
   "metadata": {},
   "outputs": [
    {
     "name": "stdout",
     "output_type": "stream",
     "text": [
      "epoch 1: loss = 275.1013\n",
      "epoch 101: loss = 13.6038\n",
      "epoch 201: loss = 10.5115\n",
      "epoch 301: loss = 10.4729\n",
      "epoch 401: loss = 10.4704\n",
      "epoch 501: loss = 10.4685\n",
      "epoch 601: loss = 10.4666\n",
      "epoch 701: loss = 10.4648\n",
      "epoch 801: loss = 10.4631\n",
      "epoch 901: loss = 10.4615\n"
     ]
    }
   ],
   "source": [
    "for i in range(NUM_EPOCHS):\n",
    "    # forward pass\n",
    "    y_pred = model(x_train)\n",
    "    loss = criterion(y_train,y_pred)\n",
    "    if i%100 == 0:\n",
    "        print(f'epoch {i+1}: loss = {loss.item():.4f}')\n",
    "    optimizer.zero_grad()\n",
    "    loss.backward()\n",
    "    optimizer.step()\n",
    "    "
   ]
  },
  {
   "cell_type": "code",
   "execution_count": 5,
   "metadata": {},
   "outputs": [],
   "source": [
    "preds_y = model(x_train).detach().numpy()"
   ]
  },
  {
   "cell_type": "code",
   "execution_count": 6,
   "metadata": {},
   "outputs": [
    {
     "data": {
      "text/plain": [
       "[<matplotlib.lines.Line2D at 0x1681bed60>]"
      ]
     },
     "execution_count": 6,
     "metadata": {},
     "output_type": "execute_result"
    },
    {
     "data": {
      "image/png": "[encoded data removed]",
      "text/plain": [
       "<Figure size 640x480 with 1 Axes>"
      ]
     },
     "metadata": {},
     "output_type": "display_data"
    }
   ],
   "source": [
    "# plot the real y and the predicted y\n",
    "plt.plot(x_train.numpy(),y_train.numpy(),'o',c='b')   \n",
    "plt.plot(x_train.numpy(),preds_y,'o',c='r')"
   ]
  },
  {
   "cell_type": "code",
   "execution_count": 7,
   "metadata": {},
   "outputs": [
    {
     "name": "stdout",
     "output_type": "stream",
     "text": [
      "epoch 1: loss = 0.7455\n",
      "epoch 101: loss = 0.7420\n",
      "epoch 201: loss = 0.7386\n",
      "epoch 301: loss = 0.7351\n",
      "epoch 401: loss = 0.7316\n",
      "epoch 501: loss = 0.7281\n",
      "epoch 601: loss = 0.7247\n",
      "epoch 701: loss = 0.7212\n",
      "epoch 801: loss = 0.7177\n",
      "epoch 901: loss = 0.7142\n"
     ]
    },
    {
     "data": {
      "text/plain": [
       "[<matplotlib.lines.Line2D at 0x16a160e50>]"
      ]
     },
     "execution_count": 7,
     "metadata": {},
     "output_type": "execute_result"
    },
    {
     "data": {
      "image/png": "[encoded data removed]",
      "text/plain": [
       "<Figure size 640x480 with 1 Axes>"
      ]
     },
     "metadata": {},
     "output_type": "display_data"
    }
   ],
   "source": [
    "# create a logistic model for the same dataset\n",
    "# create random dataset for linear regression\n",
    "x_train = torch.randn(100,1)*10\n",
    "y_train = torch.cat((torch.zeros(50,1),torch.ones(50,1)),dim=0)\n",
    "\n",
    "plt.plot(x_train.numpy(),y_train.numpy(),'o')\n",
    "\n",
    "model = nn.Linear(1,1)\n",
    "criterion = nn.BCEWithLogitsLoss()\n",
    "\n",
    "lr = 1e-4\n",
    "optimizer = torch.optim.SGD(model.parameters(),lr=lr)\n",
    "NUM_EPOCHS = 1000\n",
    "\n",
    "\n",
    "for i in range(NUM_EPOCHS):\n",
    "    # forward pass\n",
    "    y_pred = model(x_train)\n",
    "    loss = criterion(y_train,y_pred)\n",
    "    if i%100 == 0:\n",
    "        print(f'epoch {i+1}: loss = {loss.item():.4f}')\n",
    "    optimizer.zero_grad()\n",
    "    loss.backward()\n",
    "    optimizer.step()\n",
    "\n",
    "preds_y = torch.sigmoid(model(x_train)).detach().numpy()\n",
    "\n",
    "# plot the real y and the predicted y\n",
    "plt.plot(x_train.numpy(),y_train.numpy(),'o',c='b')\n",
    "plt.plot(x_train.numpy(),preds_y,'o',c='r')\n",
    "\n"
   ]
  },
  {
   "cell_type": "code",
   "execution_count": 27,
   "metadata": {},
   "outputs": [
    {
     "name": "stdout",
     "output_type": "stream",
     "text": [
      "epoch 1/5, step 100/600, loss = 0.2757\n",
      "epoch 1/5, step 200/600, loss = 0.2459\n",
      "epoch 1/5, step 300/600, loss = 0.3685\n",
      "epoch 1/5, step 400/600, loss = 0.2698\n",
      "epoch 1/5, step 500/600, loss = 0.1737\n",
      "epoch 1/5, step 600/600, loss = 0.2429\n",
      "epoch 2/5, step 100/600, loss = 0.1185\n",
      "epoch 2/5, step 200/600, loss = 0.0835\n",
      "epoch 2/5, step 300/600, loss = 0.0668\n",
      "epoch 2/5, step 400/600, loss = 0.0810\n",
      "epoch 2/5, step 500/600, loss = 0.1589\n",
      "epoch 2/5, step 600/600, loss = 0.0864\n",
      "epoch 3/5, step 100/600, loss = 0.1393\n",
      "epoch 3/5, step 200/600, loss = 0.1337\n",
      "epoch 3/5, step 300/600, loss = 0.0173\n",
      "epoch 3/5, step 400/600, loss = 0.0583\n",
      "epoch 3/5, step 500/600, loss = 0.0837\n",
      "epoch 3/5, step 600/600, loss = 0.1345\n",
      "epoch 4/5, step 100/600, loss = 0.0622\n",
      "epoch 4/5, step 200/600, loss = 0.0413\n",
      "epoch 4/5, step 300/600, loss = 0.0749\n",
      "epoch 4/5, step 400/600, loss = 0.0513\n",
      "epoch 4/5, step 500/600, loss = 0.0258\n",
      "epoch 4/5, step 600/600, loss = 0.0630\n",
      "epoch 5/5, step 100/600, loss = 0.0124\n",
      "epoch 5/5, step 200/600, loss = 0.0287\n",
      "epoch 5/5, step 300/600, loss = 0.0126\n",
      "epoch 5/5, step 400/600, loss = 0.0300\n",
      "epoch 5/5, step 500/600, loss = 0.0846\n",
      "epoch 5/5, step 600/600, loss = 0.0192\n"
     ]
    }
   ],
   "source": [
    "# create model and train for mnist dataset\n",
    "import torch\n",
    "import torch.nn as nn\n",
    "import torchvision\n",
    "import torchvision.transforms as transforms\n",
    "import matplotlib.pyplot as plt\n",
    "import numpy as np\n",
    "\n",
    "# device configuration\n",
    "device = torch.device('cuda' if torch.cuda.is_available() else 'cpu')\n",
    "\n",
    "# hyper parameters\n",
    "input_size = 784\n",
    "hidden_size = 500\n",
    "num_classes = 10\n",
    "num_epochs = 5\n",
    "batch_size = 100\n",
    "learning_rate = 0.001\n",
    "\n",
    "# MNIST dataset\n",
    "train_dataset = torchvision.datasets.MNIST(root='../../data',\n",
    "                                             train=True,\n",
    "                                                transform=transforms.ToTensor(),\n",
    "                                                download=True)\n",
    "\n",
    "test_dataset = torchvision.datasets.MNIST(root='../../data',\n",
    "                                                train=False,\n",
    "                                                transform=transforms.ToTensor())\n",
    "\n",
    "# data loader\n",
    "train_loader = torch.utils.data.DataLoader(dataset=train_dataset,\n",
    "                                                batch_size=batch_size,\n",
    "                                                shuffle=True)\n",
    "\n",
    "test_loader = torch.utils.data.DataLoader(dataset=test_dataset,\n",
    "                                                batch_size=batch_size,\n",
    "                                                shuffle=False)\n",
    "\n",
    "\n",
    "\n",
    "# fully connected neural network with one hidden layer\n",
    "class NeuralNet(nn.Module):\n",
    "    def __init__(self,input_size,hidden_size,num_classes):\n",
    "        super(NeuralNet,self).__init__()\n",
    "        self.fc1 = nn.Linear(input_size,hidden_size)\n",
    "        self.relu = nn.ReLU()\n",
    "        self.fc2 = nn.Linear(hidden_size,num_classes)\n",
    "        \n",
    "    def forward(self,x):\n",
    "        out = self.fc1(x)\n",
    "        out = self.relu(out)\n",
    "        out = self.fc2(out)\n",
    "        return out\n",
    "    \n",
    "model = NeuralNet(input_size,hidden_size,num_classes).to(device)\n",
    "\n",
    "# loss and optimizer\n",
    "criterion = nn.CrossEntropyLoss()\n",
    "optimizer = torch.optim.Adam(model.parameters(),lr=learning_rate)\n",
    "\n",
    "# train the model\n",
    "losses_train = []\n",
    "n_total_steps = len(train_loader)\n",
    "for epoch in range(num_epochs):\n",
    "\n",
    "    for i, (images,labels) in enumerate(train_loader):\n",
    "        # origin shape: [100,1,28,28]\n",
    "        # resized: [100,784]\n",
    "        images = images.reshape(-1,28*28).to(device)\n",
    "        labels = labels.to(device)\n",
    "        \n",
    "        # forward pass\n",
    "        outputs = model(images)\n",
    "        loss = criterion(outputs,labels)\n",
    "        losses_train.append(loss.item())\n",
    "        \n",
    "        # backward pass\n",
    "        optimizer.zero_grad()\n",
    "        loss.backward()\n",
    "        optimizer.step()\n",
    "        \n",
    "        if (i+1)%100 == 0:\n",
    "            print(f'epoch {epoch+1}/{num_epochs}, step {i+1}/{n_total_steps}, loss = {loss.item():.4f}')\n",
    "\n",
    "\n"
   ]
  },
  {
   "cell_type": "code",
   "execution_count": 28,
   "metadata": {},
   "outputs": [
    {
     "data": {
      "text/plain": [
       "[<matplotlib.lines.Line2D at 0x17e98c0d0>]"
      ]
     },
     "execution_count": 28,
     "metadata": {},
     "output_type": "execute_result"
    },
    {
     "data": {
      "image/png": "[encoded data removed]",
      "text/plain": [
       "<Figure size 640x480 with 1 Axes>"
      ]
     },
     "metadata": {},
     "output_type": "display_data"
    }
   ],
   "source": [
    "plt.plot(losses_train)"
   ]
  },
  {
   "cell_type": "code",
   "execution_count": 29,
   "metadata": {},
   "outputs": [
    {
     "name": "stdout",
     "output_type": "stream",
     "text": [
      "accuracy = 97.73\n"
     ]
    }
   ],
   "source": [
    "# test the model\n",
    "with torch.no_grad():\n",
    "    n_correct = 0\n",
    "    n_samples = 0\n",
    "    for images,labels in test_loader:\n",
    "        images = images.reshape(-1,28*28).to(device)\n",
    "        labels = labels.to(device)\n",
    "        outputs = model(images)\n",
    "        \n",
    "        # value, index\n",
    "        _,predictions = torch.max(outputs,1)\n",
    "        n_samples += labels.shape[0]\n",
    "        n_correct += (predictions == labels).sum().item()\n",
    "        \n",
    "    acc = 100.0 * n_correct / n_samples\n",
    "    print(f'accuracy = {acc}')\n"
   ]
  },
  {
   "cell_type": "code",
   "execution_count": 25,
   "metadata": {},
   "outputs": [],
   "source": [
    "errors = []\n",
    "with torch.no_grad():\n",
    "    n_samples = 0\n",
    "    n_correct = 0\n",
    "    for images,labels in test_loader:\n",
    "        found = False\n",
    "        images = images.reshape(-1,28*28).to(device)\n",
    "        labels = labels.to(device)\n",
    "        outputs = model(images)\n",
    "        \n",
    "        # value, index\n",
    "        _,predictions = torch.max(outputs,1)\n",
    "        n_samples += labels.shape[0]\n",
    "        n_correct += (predictions == labels).sum().item()\n",
    "        \n",
    "        wrong = (predictions != labels).nonzero()\n",
    "        for i in wrong:\n",
    "            errors.append((images[i].reshape(28,28).cpu().numpy(),predictions[i],labels[i]))\n"
   ]
  },
  {
   "cell_type": "code",
   "execution_count": 26,
   "metadata": {},
   "outputs": [
    {
     "data": {
      "image/png": "[encoded data removed]",
      "text/plain": [
       "<Figure size 640x480 with 10 Axes>"
      ]
     },
     "metadata": {},
     "output_type": "display_data"
    }
   ],
   "source": [
    "# plot the errors, take 10 random errors\n",
    "import random\n",
    "num_show = 10\n",
    "random.shuffle(errors)\n",
    "sample_errors = errors[:num_show]\n",
    "for i in range(len(sample_errors)):\n",
    "    plt.subplot(2,5,i+1)\n",
    "    plt.imshow(errors[i][0],cmap='gray')\n",
    "    plt.title(f'P:{errors[i][1].item()},L:{errors[i][2].item()}')\n",
    "    plt.axis('off')\n"
   ]
  },
  {
   "attachments": {},
   "cell_type": "markdown",
   "metadata": {},
   "source": [
    "Vgg predilige filtri piccoli con più layer. Uno stack di due 3x3 conv ha lo stesso effetto di un 5x5\n",
    "\n",
    "\n",
    "tre 3x3 conv hanno lo stesso effetto di un 7x7"
   ]
  },
  {
   "attachments": {},
   "cell_type": "markdown",
   "metadata": {},
   "source": [
    "Google net, aumenta numero livelli conv complicando architettura. Sono stati introdotti i livelli inception. Lascio alla rete a scegliere che tipo di filtro usare (che dimensione del kernel). L'input viene dato a diversi con layer con diversi valori di kernel size (questo in parallelo). Dopo ciò viene posto un filter concatenation layer. Riduce il numero di parametri rispetto a VGG\n",
    "\n",
    "\n",
    "<img src=\"https://media5.datahacker.rs/2018/11/Featured-Image-017-CNN-Inception-Network-1.jpg\" alt=\"alt text\" title=\"Inception layer\" />"
   ]
  },
  {
   "attachments": {},
   "cell_type": "markdown",
   "metadata": {},
   "source": [
    "Resnet: aumentare profondità per aumentare le prestazioni. \n",
    "\n",
    "- Usa massicciamente layer di batchnormalization\n",
    "- usa le skip connection: connessioni in cui l'input di un certo blocco è sommato all'output del blocco, divenendo nuovo input del blocco successivo. Per risolvere il problema del vanishing gradient"
   ]
  },
  {
   "attachments": {},
   "cell_type": "markdown",
   "metadata": {},
   "source": [
    "Batch normalization: tenta di risolvere il fatto che un input voglio normalizzarlo per evitare che i valori assoluti dell'input cambiano ma non cambia la distribuzione (cambio i pesi della rete ma non riesco a estrarre le feature). AlexNet fa questo con LRN (local response normalization) (l'input di un livello è ottenuto normalizzando l'output del livello precedente) (intra channel: pixel nello stesso canale, accross channel: sui diversi canali) questo tipo di normalizzazione è poco efficiente, migliore è la batch normalization. Si applica al singolo batch. Risolve il problema del co-variate shift (se ho una distribuzione di punti, la mia rete si addestra sulla distribuzione in quell'intervallo, nel caso di inferenza potrei avere la stessa distribuzione ma su un intervallo diverso). Normalizzo sui valori assoluti mantenendo costante la distribuzione, usa la formula:\n",
    "\n",
    "<img src=\"https://i.stack.imgur.com/KyHhK.png\" >"
   ]
  },
  {
   "attachments": {},
   "cell_type": "markdown",
   "metadata": {},
   "source": [
    "Altero i valori assoluti non modificando le distribuzioni!\n",
    "Cona la batchnormalization la rete può far sì che l'alterazione dei colori non sia determinante (trovare gatti bianchi o neri è meno importante, sarà più rilevante il modo in cui il colore è distribuito. Anche se la rete non ha visto gatti neri sarà in grado di riconoscerli). "
   ]
  },
  {
   "attachments": {},
   "cell_type": "markdown",
   "metadata": {},
   "source": [
    "### Skip connections"
   ]
  },
  {
   "attachments": {},
   "cell_type": "markdown",
   "metadata": {},
   "source": [
    "La somma avviene prima subito prima dell'ultima funzione di attivazione. \n",
    "\n",
    "<img src=\"https://idiotdeveloper.com/wp-content/uploads/2021/09/residual_block_explained.png\">"
   ]
  },
  {
   "attachments": {},
   "cell_type": "markdown",
   "metadata": {},
   "source": [
    "i tensori devono avere la stessa shape, quindi devo parametrizzare le convoluzioni per farle avere la stessa shape (se non è possibile direttamente nel ramo principale si può aggiungere un conv layer nel ramo di sikip)"
   ]
  },
  {
   "attachments": {},
   "cell_type": "markdown",
   "metadata": {},
   "source": [
    "Per fare il freezing dei pesi itero su i parametri e metto requires_grad a false\n",
    "\n",
    "        for param in model.parameters():\n",
    "            param.requires_grad = False"
   ]
  },
  {
   "attachments": {},
   "cell_type": "markdown",
   "metadata": {},
   "source": [
    "La log softmax permette di simulare una distribuzione di probabilità (sommatoria per tutti gli output deve essere pari a 1) + funzione logaritmica"
   ]
  }
 ],
 "metadata": {
  "kernelspec": {
   "display_name": "pytorch_env_2",
   "language": "python",
   "name": "python3"
  },
  "language_info": {
   "codemirror_mode": {
    "name": "ipython",
    "version": 3
   },
   "file_extension": ".py",
   "mimetype": "text/x-python",
   "name": "python",
   "nbconvert_exporter": "python",
   "pygments_lexer": "ipython3",
   "version": "3.9.16"
  },
  "orig_nbformat": 4
 },
 "nbformat": 4,
 "nbformat_minor": 2
}
