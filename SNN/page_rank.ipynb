{
 "cells": [
  {
   "cell_type": "code",
   "execution_count": 1,
   "metadata": {},
   "outputs": [],
   "source": [
    "import networkx as nx\n",
    "import numpy as np"
   ]
  },
  {
   "cell_type": "code",
   "execution_count": 12,
   "metadata": {},
   "outputs": [],
   "source": [
    "# create preferential attachment graph\n",
    "G = nx.barabasi_albert_graph(1000, 2)\n"
   ]
  },
  {
   "cell_type": "code",
   "execution_count": 15,
   "metadata": {},
   "outputs": [
    {
     "data": {
      "text/plain": [
       "array([[0, 1, 1, ..., 0, 0, 0],\n",
       "       [1, 0, 0, ..., 0, 0, 0],\n",
       "       [1, 0, 0, ..., 0, 0, 0],\n",
       "       ...,\n",
       "       [0, 0, 0, ..., 0, 0, 0],\n",
       "       [0, 0, 0, ..., 0, 0, 0],\n",
       "       [0, 0, 0, ..., 0, 0, 0]])"
      ]
     },
     "execution_count": 15,
     "metadata": {},
     "output_type": "execute_result"
    }
   ],
   "source": [
    "A = nx.adjacency_matrix(G).todense()\n",
    "A"
   ]
  },
  {
   "cell_type": "code",
   "execution_count": 11,
   "metadata": {},
   "outputs": [
    {
     "data": {
      "text/plain": [
       "[0.019057182893168052,\n",
       " 0.009962285367912346,\n",
       " 0.0012134151756254014,\n",
       " 0.004290459228036947,\n",
       " 0.013267302576801263,\n",
       " 0.004099457443595425,\n",
       " 0.004797073018052519,\n",
       " 0.011903864992017704,\n",
       " 0.00540868681528103,\n",
       " 0.000976889765678717]"
      ]
     },
     "execution_count": 11,
     "metadata": {},
     "output_type": "execute_result"
    }
   ],
   "source": [
    "# compute page rank\n",
    "pr = nx.pagerank(G, alpha=0.85)\n",
    "list(pr.values())[0:10]\n"
   ]
  },
  {
   "cell_type": "code",
   "execution_count": 66,
   "metadata": {},
   "outputs": [],
   "source": [
    "def get_H(A):\n",
    "    m,_ = A.shape\n",
    "    H = np.zeros_like(A).astype(float)\n",
    "    for i in range(m):\n",
    "        out_degree = np.sum(A[i,:])\n",
    "        for j in range(m):\n",
    "            if A[i,j] == 1:\n",
    "                H[i][j] = 1.0/out_degree\n",
    "    return H\n",
    "def get_Sink(A):\n",
    "    m,_ = A.shape\n",
    "    S = np.zeros_like(A).astype(float)\n",
    "    for i in range(m):\n",
    "        in_degree = np.sum(A[:,i])\n",
    "        if in_degree == 0:\n",
    "            S[:,i] = 1/m\n",
    "    return S\n",
    "def page_rank(G,alpha=0.85,p=None,num_iter=100):\n",
    "    A = nx.adjacency_matrix(G).todense()\n",
    "    H = get_H(A)\n",
    "    S = H+get_Sink(A)\n",
    "    if p is None:\n",
    "        p = np.ones(A.shape[0])/A.shape[0]\n",
    "    r = np.random.rand(A.shape[0])\n",
    "    for _ in range(num_iter):\n",
    "        r = alpha * (S.T @ r) + (1-alpha)*p\n",
    "    return r,A,H,S,p\n",
    "        \n"
   ]
  },
  {
   "cell_type": "code",
   "execution_count": 92,
   "metadata": {},
   "outputs": [],
   "source": [
    "r,A,H,S,p = page_rank(G,num_iter=1000)"
   ]
  },
  {
   "cell_type": "code",
   "execution_count": 94,
   "metadata": {},
   "outputs": [
    {
     "data": {
      "text/plain": [
       "array([27, 63,  7, 31, 13,  6,  9, 22,  8,  0])"
      ]
     },
     "execution_count": 94,
     "metadata": {},
     "output_type": "execute_result"
    }
   ],
   "source": [
    "# take the 10 highest ranked nodes\n",
    "np.argsort(r)[-10:]"
   ]
  },
  {
   "cell_type": "code",
   "execution_count": 96,
   "metadata": {},
   "outputs": [
    {
     "data": {
      "text/plain": [
       "array([27, 63,  7, 31, 13,  6,  9, 22,  8,  0])"
      ]
     },
     "execution_count": 96,
     "metadata": {},
     "output_type": "execute_result"
    }
   ],
   "source": [
    "pr = nx.pagerank(G, alpha=0.85)\n",
    "# get the 10 highest ranked nodes\n",
    "np.argsort(list(pr.values()))[-10:]\n"
   ]
  },
  {
   "cell_type": "markdown",
   "metadata": {},
   "source": [
    "8010677102"
   ]
  },
  {
   "cell_type": "code",
   "execution_count": null,
   "metadata": {},
   "outputs": [],
   "source": [
    "import numpy as np\n",
    "def polar(x,A):\n",
    "    return (x.T @ A @ x)/(x.T @ x)\n",
    "def \n",
    "\n",
    "collegs = [(0,1,1),(0,2,1),(1,3,1),(2,3,-1),(2,4,-1),(3,4,1)]\n"
   ]
  }
 ],
 "metadata": {
  "kernelspec": {
   "display_name": "pytorch_env_2",
   "language": "python",
   "name": "python3"
  },
  "language_info": {
   "codemirror_mode": {
    "name": "ipython",
    "version": 3
   },
   "file_extension": ".py",
   "mimetype": "text/x-python",
   "name": "python",
   "nbconvert_exporter": "python",
   "pygments_lexer": "ipython3",
   "version": "3.9.16"
  },
  "orig_nbformat": 4
 },
 "nbformat": 4,
 "nbformat_minor": 2
}
