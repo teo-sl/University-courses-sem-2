{
 "cells": [
  {
   "cell_type": "code",
   "execution_count": 1,
   "metadata": {},
   "outputs": [],
   "source": [
    "import matplotlib.pyplot as plt\n",
    "import numpy as np\n",
    "from markov import find_steady_state,convergence,find_stable_distribution_matrix"
   ]
  },
  {
   "attachments": {},
   "cell_type": "markdown",
   "metadata": {},
   "source": [
    "# 1. Introduzione\n",
    "\n",
    "Abbiamo un grafo che ci dice quale sarà la transizione di un agente step dopo step. Ogni arco ha una probabilità. Un problema consiste nel vedere verso cosa convergerà il comportamento degli agenti.\n",
    "\n",
    "Rappresentiamo il grafo come una matrice di adiacenza. Nella posizione (i,j) è presente la probabilità che nel prossimo step l'agente passi dal nodo i al nodo j. Associamo, per ogni nodo i definiamo il numero di agenti che si trovano in quel nodo allo step 0\n",
    "\n",
    "$$A \\cdot T_0 $$\n",
    "\n",
    "Dove $T_0$ è un vettore colonna con i valori iniziali. Il risultato del prodotto è un vettore colonna che corrisponde a $T_1$.\n",
    "\n",
    "Quindi, in generale vale:\n",
    "\n",
    "$$T_{i+1} = A \\cdot T_i$$\n",
    "\n",
    "Naturalmente, il numero di agenti nel vettore $T_i$ è espresso in percentuale, come valore $\\in [0,1]$. Il prossimo stato è detto next state o future state.\n",
    "\n",
    "# 2. Markov Chain\n",
    "\n",
    "Perché sono chiamate chains? Si basa sulle successive moltiplicazioni\n",
    "Ogni volta, il vettore risultante deve essere tale che la somma degli elementi sia 1.\n",
    "\n",
    "# 3. Metodo alternativo\n",
    "\n",
    "Un modo alternativo è fare così:\n",
    "\n",
    "$$T_{i} = A^{i} \\cdot T_0$$\n",
    "\n",
    "\n",
    "Un aspetto interessante è che il vettore sembra variare molto velocemente all'inizio per poi convergere a un vettore stabile finale.\n",
    "\n",
    "Se la matrice cambia, il vettore dovrà convergere nuovamente a un nuovo valore. \n",
    "\n",
    "# 4. Stocasticità e regolarità\n",
    "\n",
    "## 4.1 Stocasticità\n",
    "\n",
    "Una matrice è stocastica se la somma delle righe/colonne è 1. Per usare le markov chain le matrici devono essere stocastiche. \n",
    "\n",
    "Se è 1 se si sommano le colonne\n",
    "\n",
    "$$B = P \\cdot A$$\n",
    "\n",
    "Se è 1 se si sommano le righe\n",
    "\n",
    "$$B = A \\cdot P$$\n",
    "\n",
    "Con A vettore colonna e P matrice di transizione.\n",
    "\n",
    "\n",
    "## 4.2 Regolarità\n",
    "\n",
    "Una matrice stocastica è anche regolare se $P^n$ $(n>1)$ ha solo entry > 0, quindi non negative e diverse da zero. \n",
    "\n",
    "\n",
    "# 5. Markov chain regolari\n",
    "Se P è una matrice regolare ci sarà un $P^n$ dove $P^n X_0 = \\hat{X}$ dove $\\hat{X}$ è la stable distribution matrix. O dove $P^{n+1} = P^n$, allora $P,P^2,P^3,...$ è una markov chain regolare.\n",
    "\n",
    "Quindi, nel caso delle markov chain regolari, per ottenere il vettore a convergenza basta moltiplicare lo stato iniziale con la matrice di transizione a convergenza (la stable distribuzion matrix).\n"
   ]
  },
  {
   "attachments": {},
   "cell_type": "markdown",
   "metadata": {},
   "source": [
    "<hr>"
   ]
  },
  {
   "attachments": {},
   "cell_type": "markdown",
   "metadata": {},
   "source": [
    "Nota che la matrice A è tale che, se presa verticalmente, i valori sommati sono pari a 1, mentre nella versione trasposta, ovviamente, la somma sulle righe fa 1"
   ]
  },
  {
   "cell_type": "code",
   "execution_count": 78,
   "metadata": {},
   "outputs": [
    {
     "data": {
      "text/plain": [
       "array([0.404, 0.316, 0.28 ])"
      ]
     },
     "execution_count": 78,
     "metadata": {},
     "output_type": "execute_result"
    }
   ],
   "source": [
    "A = np.array([\n",
    "    [0.8, 0.2, 0.1],\n",
    "    [0.1, 0.7, 0.3],\n",
    "    [0.1, 0.1, 0.6]\n",
    "])\n",
    "t_curr = np.array([0.4, 0.24, 0.36])\n",
    "\n",
    "\n",
    "# you can do A @ t_curr.T\n",
    "# or t_curr @ A.T\n",
    "\n",
    "A @ t_curr.T"
   ]
  },
  {
   "cell_type": "code",
   "execution_count": 94,
   "metadata": {},
   "outputs": [
    {
     "name": "stdout",
     "output_type": "stream",
     "text": [
      "[0.45 0.35 0.2 ]\n",
      "[0.432784 0.357216 0.21    ]\n"
     ]
    }
   ],
   "source": [
    "# la funzione presume che A sia tale che la somma delle colonne sia 1\n",
    "def convergence(A, t_curr, eps=1e-20):\n",
    "    assert np.allclose(A.sum(axis=0), 1)\n",
    "    t = t_curr.copy()\n",
    "    t_next = t @ A.T\n",
    "    while (abs(t_next - t)).sum() > eps:\n",
    "        t = t_next\n",
    "        t_next = t @ A.T\n",
    "    return t_next\n",
    "\n",
    "def get_nth_step(A, t_curr, n):\n",
    "    t = t_curr.copy()\n",
    "    for _ in range(n):\n",
    "        t = t @ A.T\n",
    "    return t\n",
    "\n",
    "print(convergence(A, t_curr))\n",
    "\n",
    "print(get_nth_step(A, t_curr, 4))"
   ]
  },
  {
   "attachments": {},
   "cell_type": "markdown",
   "metadata": {},
   "source": [
    "Usiamo il metodo alternativo che fa uso della potenza della matrice di transizione A"
   ]
  },
  {
   "cell_type": "code",
   "execution_count": 74,
   "metadata": {},
   "outputs": [
    {
     "name": "stdout",
     "output_type": "stream",
     "text": [
      "[0.432784 0.357216 0.21    ]\n"
     ]
    }
   ],
   "source": [
    "def get_nth_state_alternative(A, t_curr, n):\n",
    "    A_n = np.linalg.matrix_power(A, n)\n",
    "    return t_curr @ A_n.T\n",
    "\n",
    "print(get_nth_state_alternative(A, t_curr, 4))"
   ]
  },
  {
   "cell_type": "code",
   "execution_count": 75,
   "metadata": {},
   "outputs": [
    {
     "data": {
      "text/plain": [
       "array([0.1609538 , 0.17883756, 0.09090909, 0.56929955])"
      ]
     },
     "execution_count": 75,
     "metadata": {},
     "output_type": "execute_result"
    }
   ],
   "source": [
    "A = np.array([\n",
    "    [0.92, .03, .02, .01],\n",
    "    [.02, .94, .02, .01],\n",
    "    [.01, .01, .90, .01],\n",
    "    [0.05, .02, .06, .97]\n",
    "])\n",
    "# row  : to \n",
    "# col : from \n",
    "\n",
    "t_0 = np.array([0.40, 0.32, 0.18, 0.10])\n",
    "\n",
    "convergence(A, t_0, eps=1e-20)\n"
   ]
  },
  {
   "cell_type": "code",
   "execution_count": 95,
   "metadata": {},
   "outputs": [
    {
     "name": "stdout",
     "output_type": "stream",
     "text": [
      "[0.33333333 0.66666667]\n",
      "[0.33333333 0.66666667]\n",
      "[0.33333333 0.66666667]\n"
     ]
    }
   ],
   "source": [
    "A = np.array([\n",
    "    [0.8, 0.1],\n",
    "    [0.2, 0.9]\n",
    "])\n",
    "print(convergence(A,[1,0]))\n",
    "print(convergence(A,[0.5,0.5]))\n",
    "print(convergence(A,[0,1]))"
   ]
  },
  {
   "attachments": {},
   "cell_type": "markdown",
   "metadata": {},
   "source": [
    "Indipendentemente dallo stato iniziale lo stato finale è sempre lo stesso"
   ]
  },
  {
   "cell_type": "code",
   "execution_count": 174,
   "metadata": {},
   "outputs": [
    {
     "name": "stdout",
     "output_type": "stream",
     "text": [
      "Using stable distribution matrix\n",
      "[0.33333333 0.66666667]\n",
      "\n",
      "Vanilla method\n",
      "[0.33333333 0.66666667]\n"
     ]
    }
   ],
   "source": [
    "def convergence_stable_distr_matrix(A,t_0,eps=1e-20):\n",
    "    assert np.allclose(A.sum(axis=0), 1)\n",
    "    A_cur = A.copy()\n",
    "    A_next = A_cur @ A\n",
    "    while (abs(A_next - A_cur)).sum() > eps:\n",
    "        A_cur = A_next\n",
    "        A_next = A_cur @ A\n",
    "\n",
    "    return t_0 @ A_next.T\n",
    "\n",
    "# è stocastica\n",
    "A = np.array([\n",
    "    [0.5, 0.25],\n",
    "    [0.5, 0.75]\n",
    "])\n",
    "\n",
    "print(\"Using stable distribution matrix\")\n",
    "print(convergence_stable_distr_matrix(A,[.4,.6]))\n",
    "print()\n",
    "print(\"Vanilla method\")\n",
    "print(convergence(A,[.4,.6]))"
   ]
  },
  {
   "attachments": {},
   "cell_type": "markdown",
   "metadata": {},
   "source": [
    "I risultati sono identici!\n",
    "\n",
    "Come facciamo a trovare la stable distribution matrix?\n",
    "\n",
    "E' la soluzione di\n",
    "\n",
    "A x = x\n",
    "\n",
    "che sarebbe l'autovettore associato all'autovalore 1"
   ]
  },
  {
   "cell_type": "code",
   "execution_count": 181,
   "metadata": {},
   "outputs": [
    {
     "name": "stdout",
     "output_type": "stream",
     "text": [
      "[0.83333333 0.16666667]\n",
      "\n",
      "[[0.83333333 0.83333333]\n",
      " [0.16666667 0.16666667]]\n"
     ]
    }
   ],
   "source": [
    "def find_steady_state(A):\n",
    "    assert np.allclose(A.sum(axis=0), 1)\n",
    "    eval,evect = np.linalg.eig(A)\n",
    "    index = np.argmin(np.abs(eval - 1))\n",
    "    steady_state = evect[:, index].real\n",
    "    steady_state /= np.sum(steady_state)\n",
    "    return steady_state\n",
    "def find_stable_distribution_matrix(A):\n",
    "    ss = find_steady_state(A)\n",
    "    return np.full_like(A,ss).T\n",
    "    \n",
    "A = np.array([\n",
    "    [0.9, 0.5],\n",
    "    [0.1, 0.5]\n",
    "])\n",
    "\n",
    "print(find_steady_state(A))\n",
    "print()\n",
    "print(find_stable_distribution_matrix(A))\n",
    "    "
   ]
  },
  {
   "cell_type": "code",
   "execution_count": 182,
   "metadata": {},
   "outputs": [
    {
     "data": {
      "text/plain": [
       "array([0.90909091, 0.09090909])"
      ]
     },
     "execution_count": 182,
     "metadata": {},
     "output_type": "execute_result"
    }
   ],
   "source": [
    "A = np.array([\n",
    "    [0.95, 0.5],\n",
    "    [0.05, 0.5]\n",
    "])\n",
    "\n",
    "find_steady_state(A)"
   ]
  },
  {
   "cell_type": "code",
   "execution_count": 185,
   "metadata": {},
   "outputs": [
    {
     "data": {
      "text/plain": [
       "array([0.55, 0.25, 0.2 ])"
      ]
     },
     "execution_count": 185,
     "metadata": {},
     "output_type": "execute_result"
    }
   ],
   "source": [
    "A = np.array([\n",
    "    [0.8,0.2,0.3],\n",
    "    [0.1,0.7,0.1],\n",
    "    [0.1,0.1,0.6]\n",
    "])\n",
    "\n",
    "find_steady_state(A)"
   ]
  },
  {
   "cell_type": "code",
   "execution_count": 187,
   "metadata": {},
   "outputs": [
    {
     "data": {
      "text/plain": [
       "array([0.8, 0.2])"
      ]
     },
     "execution_count": 187,
     "metadata": {},
     "output_type": "execute_result"
    }
   ],
   "source": [
    "A = np.array([\n",
    "    [0.9,0.4],\n",
    "    [0.1,0.6]\n",
    "])\n",
    "\n",
    "find_steady_state(A)\n",
    "    "
   ]
  },
  {
   "attachments": {},
   "cell_type": "markdown",
   "metadata": {},
   "source": [
    "Absorbing Markov Chain\n"
   ]
  },
  {
   "cell_type": "code",
   "execution_count": 189,
   "metadata": {},
   "outputs": [
    {
     "name": "stdout",
     "output_type": "stream",
     "text": [
      "[1. 0. 0.]\n",
      "\n",
      "[[1.  0.  0. ]\n",
      " [0.2 0.6 0.2]\n",
      " [0.2 0.1 0.7]]\n"
     ]
    }
   ],
   "source": [
    "A = np.array([\n",
    "    [1, 0.2, 0.2],\n",
    "    [0, 0.6, 0.1],\n",
    "    [0, 0.2, 0.7]\n",
    "])\n",
    "\n",
    "print(find_steady_state(A))\n",
    "print()\n",
    "print(A.T)\n"
   ]
  },
  {
   "cell_type": "code",
   "execution_count": 191,
   "metadata": {},
   "outputs": [
    {
     "data": {
      "text/plain": [
       "array([1., 0., 0., 0.])"
      ]
     },
     "execution_count": 191,
     "metadata": {},
     "output_type": "execute_result"
    }
   ],
   "source": [
    "A = np.array([\n",
    "    [1, 0, 0.2, 0.1],\n",
    "    [0, 1, 0.1, 0.2],\n",
    "    [0, 0, 0.5, 0.1],\n",
    "    [0, 0, 0.2, 0.6]\n",
    "])\n",
    "\n",
    "find_steady_state(A)"
   ]
  },
  {
   "attachments": {},
   "cell_type": "markdown",
   "metadata": {},
   "source": [
    "Nella matrice di transizione l'elemento $p_{ij}$ corrisponde alla probabilità che l'agente si sposti dal j-esimo stato all'i-esimo stato. Se quindi $p_{ii}=1$ la popolazione non cambierà (naturalmente $p_{i=1...n,j}=0$, ($i\\neq j$)), abbiamo una absorbing markov chain."
   ]
  },
  {
   "cell_type": "code",
   "execution_count": 16,
   "metadata": {},
   "outputs": [
    {
     "name": "stdout",
     "output_type": "stream",
     "text": [
      "[[0.2 0.3 1. ]\n",
      " [0.7 0.1 0. ]\n",
      " [0.1 0.6 0. ]]\n"
     ]
    },
    {
     "data": {
      "text/plain": [
       "array([0.42654028, 0.33175355, 0.24170616])"
      ]
     },
     "execution_count": 16,
     "metadata": {},
     "output_type": "execute_result"
    }
   ],
   "source": [
    "A = np.array([\n",
    "    [1, .2, .3],\n",
    "    [0, .7, .1],\n",
    "    [0, .1, .6]\n",
    "])\n",
    "\n",
    "find_steady_state(A)"
   ]
  },
  {
   "attachments": {},
   "cell_type": "markdown",
   "metadata": {},
   "source": [
    "Per ottenere la stable matrix delle absorbing markov chain è necessario riportarle nella forma normale. E' necessario portare la colonna targe a sinistra."
   ]
  },
  {
   "cell_type": "code",
   "execution_count": 25,
   "metadata": {},
   "outputs": [
    {
     "name": "stdout",
     "output_type": "stream",
     "text": [
      "[0. 1. 0.]\n",
      "\n",
      "[[1.  0.  0.6]\n",
      " [0.  0.3 0. ]\n",
      " [0.  0.7 0.4]]\n",
      "\n"
     ]
    },
    {
     "data": {
      "text/plain": [
       "array([1., 0., 0.])"
      ]
     },
     "execution_count": 25,
     "metadata": {},
     "output_type": "execute_result"
    }
   ],
   "source": [
    "A = np.array([\n",
    "    [.3,0,0],\n",
    "    [0,1,.6],\n",
    "    [.7,0,.4]\n",
    "])\n",
    "'''\n",
    "Dobbiamo cambiare non solo l'ordine\n",
    "delle colonne ma anche quello delle\n",
    "righe, i.e., l'idea è quella di \n",
    "riportarsi alla matrice identità\n",
    "'''\n",
    "print(find_steady_state(A))\n",
    "print()\n",
    "# swap row\n",
    "A = A[[1,0,2],:]\n",
    "# swap column\n",
    "A= A[:,[1,0,2]]\n",
    "print(A)\n",
    "print()\n",
    "find_steady_state(A)\n"
   ]
  },
  {
   "attachments": {},
   "cell_type": "markdown",
   "metadata": {},
   "source": [
    "Una volta ottenuta nella forma normale è possibile usare un metodo particolare per il calcolo.\n",
    "\n",
    "$$\\hat{P}=P^n$$\n",
    "\n",
    "Con n grande oppure, portando P nella forma standard. Possiamo descrivere la matrice in 4 sotto-matrici:\n",
    "- in alto a sinistra la matrice identità\n",
    "- in basso a sinistra solo zeri\n",
    "- in alto a destra una matrice S\n",
    "- in basso a destra una matrice R\n",
    "\n",
    "La matrice steady sarà così definita:\n",
    "- in alto a sinistra la matrice identità\n",
    "- in basso a sinistra zeri\n",
    "- in basso a destra zeri\n",
    "- in alto a destra $S(I-R)^{-1}$\n"
   ]
  },
  {
   "cell_type": "code",
   "execution_count": 32,
   "metadata": {},
   "outputs": [
    {
     "name": "stdout",
     "output_type": "stream",
     "text": [
      "[[0. 0. 0.]\n",
      " [1. 1. 1.]\n",
      " [0. 0. 0.]]\n",
      "\n",
      "[0. 1. 0.]\n"
     ]
    }
   ],
   "source": [
    "A = np.array([\n",
    "    [0.5,0,.3],\n",
    "    [0,1,.2],\n",
    "    [0.5,0,.5]\n",
    "])\n",
    "\n",
    "# questo metodo naive non è detto funzioni sempre\n",
    "print(find_stable_distribution_matrix(A))\n",
    "print()\n",
    "print(find_steady_state(A))"
   ]
  },
  {
   "cell_type": "code",
   "execution_count": 3,
   "metadata": {},
   "outputs": [
    {
     "name": "stdout",
     "output_type": "stream",
     "text": [
      "[[1. 1. 1. 1.]\n",
      " [0. 0. 0. 0.]\n",
      " [0. 0. 0. 0.]\n",
      " [0. 0. 0. 0.]]\n",
      "\n",
      "[1. 0. 0. 0.]\n",
      "\n",
      "[0.55357143 0.44642857 0.         0.        ]\n",
      "\n",
      "[0.35714286 0.64285714 0.         0.        ]\n"
     ]
    }
   ],
   "source": [
    "A = np.array([\n",
    "    [1,0,.2,.3],\n",
    "    [0,1,.2,.1],\n",
    "    [0,0,.5,.2],\n",
    "    [0,0,.1,.4]\n",
    "])\n",
    "\n",
    "# come possiamo vedere qui, il metodo\n",
    "# find_steady_state non funziona, questo\n",
    "# perché questa è una absorbing markov\n",
    "\n",
    "print(find_stable_distribution_matrix(A))\n",
    "print()\n",
    "print(find_steady_state(A))\n",
    "print()\n",
    "print(convergence(A,[.25,.25,.25,.25],eps=1e-350))\n",
    "print()\n",
    "print(convergence(A,[.1,.5,.1,.3],eps=1e-350))"
   ]
  }
 ],
 "metadata": {
  "kernelspec": {
   "display_name": "pytorch_env_2",
   "language": "python",
   "name": "python3"
  },
  "language_info": {
   "codemirror_mode": {
    "name": "ipython",
    "version": 3
   },
   "file_extension": ".py",
   "mimetype": "text/x-python",
   "name": "python",
   "nbconvert_exporter": "python",
   "pygments_lexer": "ipython3",
   "version": "3.9.16"
  },
  "orig_nbformat": 4
 },
 "nbformat": 4,
 "nbformat_minor": 2
}
