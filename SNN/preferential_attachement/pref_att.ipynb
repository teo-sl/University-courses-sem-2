{
 "cells": [
  {
   "cell_type": "code",
   "execution_count": null,
   "metadata": {},
   "outputs": [],
   "source": [
    "import numpy as np\n",
    "import matplotlib.pyplot as plt\n",
    "import networkx as nx"
   ]
  },
  {
   "cell_type": "code",
   "execution_count": null,
   "metadata": {},
   "outputs": [],
   "source": [
    "N = 100000\n",
    "P = 0.01\n",
    "NUM_ITER = 1\n",
    "A = np.zeros((N,N))"
   ]
  },
  {
   "cell_type": "code",
   "execution_count": null,
   "metadata": {},
   "outputs": [],
   "source": [
    "for v_i in range(N):\n",
    "    for i in range(NUM_ITER):\n",
    "        elements = np.arange(N)\n",
    "        elements = np.delete(elements, v_i)\n",
    "        v_j = np.random.choice(elements)\n",
    "        if np.random.random() < P:\n",
    "            A[v_i,v_j] = 1\n",
    "            A[v_j,v_i] = 1\n",
    "        else:\n",
    "            \n",
    "            candidates = np.argwhere(A[v_j,:] == 1)\n",
    "            candidates = np.delete(candidates, np.argwhere(candidates == v_i))\n",
    "            candidates = np.delete(candidates, np.argwhere(candidates == v_j))\n",
    "            if len(candidates)==0:\n",
    "                continue\n",
    "            v_h = np.random.choice(candidates)\n",
    "            A[v_i,v_h] = 1\n",
    "            A[v_h,v_i] = 1\n"
   ]
  },
  {
   "cell_type": "code",
   "execution_count": null,
   "metadata": {},
   "outputs": [],
   "source": [
    "degree = np.sum(A, axis=1)\n",
    "min_deg = 1\n",
    "max_deg = N\n",
    "deg_dist = np.zeros(max_deg)\n",
    "for i in range(min_deg, max_deg):\n",
    "    deg_dist[i] = np.sum(degree == i)\n",
    "\n",
    "x = np.log(np.arange(min_deg, max_deg))\n",
    "y = np.log(deg_dist[min_deg:])\n",
    "plt.scatter(x,y)\n",
    "\n",
    "\n"
   ]
  },
  {
   "cell_type": "code",
   "execution_count": 4,
   "metadata": {},
   "outputs": [
    {
     "name": "stderr",
     "output_type": "stream",
     "text": [
      "/var/folders/tx/5_6_zg1d0fd4zjwzxg1ztrth0000gn/T/ipykernel_6133/2223520759.py:13: RuntimeWarning: divide by zero encountered in log\n",
      "  y = np.log(deg_dist[min_deg:])\n"
     ]
    },
    {
     "data": {
      "text/plain": [
       "<matplotlib.collections.PathCollection at 0x135dae520>"
      ]
     },
     "execution_count": 4,
     "metadata": {},
     "output_type": "execute_result"
    },
    {
     "data": {
      "image/png": "[encoded data removed]",
      "text/plain": [
       "<Figure size 640x480 with 1 Axes>"
      ]
     },
     "metadata": {},
     "output_type": "display_data"
    }
   ],
   "source": [
    "# generate a graph using preferential attachement model, use networkx\n",
    "N=100_000\n",
    "G = nx.barabasi_albert_graph(N, 1)\n",
    "degree = np.array(list(dict(G.degree()).values()))\n",
    "min_deg = 1\n",
    "max_deg = N\n",
    "# for each degree, count the number of nodes\n",
    "deg_dist = np.zeros(max_deg)\n",
    "for i in range(1, max_deg):\n",
    "    deg_dist[i] = np.sum(degree == i)\n",
    "\n",
    "x = np.log(np.arange(min_deg, max_deg))\n",
    "y = np.log(deg_dist[min_deg:])\n",
    "plt.scatter(x,y)\n"
   ]
  }
 ],
 "metadata": {
  "kernelspec": {
   "display_name": "pytorch_env_2",
   "language": "python",
   "name": "python3"
  },
  "language_info": {
   "codemirror_mode": {
    "name": "ipython",
    "version": 3
   },
   "file_extension": ".py",
   "mimetype": "text/x-python",
   "name": "python",
   "nbconvert_exporter": "python",
   "pygments_lexer": "ipython3",
   "version": "3.9.16"
  },
  "orig_nbformat": 4
 },
 "nbformat": 4,
 "nbformat_minor": 2
}
